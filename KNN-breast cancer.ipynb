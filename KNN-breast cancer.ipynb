{
 "cells": [
  {
   "cell_type": "markdown",
   "metadata": {},
   "source": [
    "# K-Nearest Neighbors algorithm for classification\n",
    "\n",
    "Here I'll be constructing the K-Nearest Neighbor (KNN) algorithm from scratch to make a classification. At the end, I'll also see how to use the library from scikit-learn to implement KNN.\n",
    "\n",
    "### Overview\n",
    "\n",
    "I'll use a data set to classify whether a patience have breast cancer os not given some features.\n",
    "\n",
    "### The data\n",
    "\n",
    "I'll be using the data kindly provided by UCI Machine Learning Repository that can be found here:https://archive.ics.uci.edu/ml/datasets/Breast+Cancer+Wisconsin+%28Diagnostic%29 or here: https://www.kaggle.com/uciml/breast-cancer-wisconsin-data\n",
    "\n",
    "The data consist of 569 samples and 30 features with a binary target named with 'M', that stands for malignant (the patience have cancer) and 'B', that stands for benign (the pacience does not have a harmful cancer).\n",
    "\n",
    "### Let's start!"
   ]
  },
  {
   "cell_type": "markdown",
   "metadata": {},
   "source": [
    "## Checking and cleaning the data\n",
    "\n",
    "Having the data downloaded in a .csv file, let's take see how the data looks. Remembering to import the desired libraries"
   ]
  },
  {
   "cell_type": "code",
   "execution_count": 42,
   "metadata": {},
   "outputs": [
    {
     "name": "stdout",
     "output_type": "stream",
     "text": [
      "         id diagnosis  radius_mean  texture_mean  perimeter_mean  area_mean  \\\n",
      "0    842302         M        17.99         10.38          122.80     1001.0   \n",
      "1    842517         M        20.57         17.77          132.90     1326.0   \n",
      "2  84300903         M        19.69         21.25          130.00     1203.0   \n",
      "3  84348301         M        11.42         20.38           77.58      386.1   \n",
      "4  84358402         M        20.29         14.34          135.10     1297.0   \n",
      "\n",
      "   smoothness_mean  compactness_mean  concavity_mean  concave points_mean  \\\n",
      "0          0.11840           0.27760          0.3001              0.14710   \n",
      "1          0.08474           0.07864          0.0869              0.07017   \n",
      "2          0.10960           0.15990          0.1974              0.12790   \n",
      "3          0.14250           0.28390          0.2414              0.10520   \n",
      "4          0.10030           0.13280          0.1980              0.10430   \n",
      "\n",
      "   ...  texture_worst  perimeter_worst  area_worst  smoothness_worst  \\\n",
      "0  ...          17.33           184.60      2019.0            0.1622   \n",
      "1  ...          23.41           158.80      1956.0            0.1238   \n",
      "2  ...          25.53           152.50      1709.0            0.1444   \n",
      "3  ...          26.50            98.87       567.7            0.2098   \n",
      "4  ...          16.67           152.20      1575.0            0.1374   \n",
      "\n",
      "   compactness_worst  concavity_worst  concave points_worst  symmetry_worst  \\\n",
      "0             0.6656           0.7119                0.2654          0.4601   \n",
      "1             0.1866           0.2416                0.1860          0.2750   \n",
      "2             0.4245           0.4504                0.2430          0.3613   \n",
      "3             0.8663           0.6869                0.2575          0.6638   \n",
      "4             0.2050           0.4000                0.1625          0.2364   \n",
      "\n",
      "   fractal_dimension_worst  Unnamed: 32  \n",
      "0                  0.11890          NaN  \n",
      "1                  0.08902          NaN  \n",
      "2                  0.08758          NaN  \n",
      "3                  0.17300          NaN  \n",
      "4                  0.07678          NaN  \n",
      "\n",
      "[5 rows x 33 columns]\n",
      "Index(['id', 'diagnosis', 'radius_mean', 'texture_mean', 'perimeter_mean',\n",
      "       'area_mean', 'smoothness_mean', 'compactness_mean', 'concavity_mean',\n",
      "       'concave points_mean', 'symmetry_mean', 'fractal_dimension_mean',\n",
      "       'radius_se', 'texture_se', 'perimeter_se', 'area_se', 'smoothness_se',\n",
      "       'compactness_se', 'concavity_se', 'concave points_se', 'symmetry_se',\n",
      "       'fractal_dimension_se', 'radius_worst', 'texture_worst',\n",
      "       'perimeter_worst', 'area_worst', 'smoothness_worst',\n",
      "       'compactness_worst', 'concavity_worst', 'concave points_worst',\n",
      "       'symmetry_worst', 'fractal_dimension_worst', 'Unnamed: 32'],\n",
      "      dtype='object')\n"
     ]
    }
   ],
   "source": [
    "import numpy as np\n",
    "import pandas as pd\n",
    "import matplotlib.pyplot as plt\n",
    "from sklearn.model_selection import train_test_split\n",
    "\n",
    "df = pd.read_csv('data.csv')\n",
    "print(df.head())\n",
    "print(df.columns)"
   ]
  },
  {
   "cell_type": "markdown",
   "metadata": {},
   "source": [
    "Our target column is the second columns. Let's pop that column to a new variable, and then substitute the labels 'M' for 1 and 'B' for 0. Also, seems like the last columns is not wanted. Let's get rid of the last column"
   ]
  },
  {
   "cell_type": "code",
   "execution_count": 2,
   "metadata": {},
   "outputs": [
    {
     "name": "stdout",
     "output_type": "stream",
     "text": [
      "Index(['id', 'radius_mean', 'texture_mean', 'perimeter_mean', 'area_mean',\n",
      "       'smoothness_mean', 'compactness_mean', 'concavity_mean',\n",
      "       'concave points_mean', 'symmetry_mean', 'fractal_dimension_mean',\n",
      "       'radius_se', 'texture_se', 'perimeter_se', 'area_se', 'smoothness_se',\n",
      "       'compactness_se', 'concavity_se', 'concave points_se', 'symmetry_se',\n",
      "       'fractal_dimension_se', 'radius_worst', 'texture_worst',\n",
      "       'perimeter_worst', 'area_worst', 'smoothness_worst',\n",
      "       'compactness_worst', 'concavity_worst', 'concave points_worst',\n",
      "       'symmetry_worst', 'fractal_dimension_worst'],\n",
      "      dtype='object')\n"
     ]
    }
   ],
   "source": [
    "df.drop(df.columns[-1], axis=1, inplace=True)\n",
    "target = df.pop('diagnosis')\n",
    "# target = target.apply(lambda x: 1 if x == 'M' else 0)\n",
    "print(df.columns)"
   ]
  },
  {
   "cell_type": "code",
   "execution_count": 3,
   "metadata": {},
   "outputs": [
    {
     "name": "stdout",
     "output_type": "stream",
     "text": [
      "B    357\n",
      "M    212\n",
      "Name: diagnosis, dtype: int64\n"
     ]
    }
   ],
   "source": [
    "print(target.value_counts())"
   ]
  },
  {
   "cell_type": "markdown",
   "metadata": {},
   "source": [
    "Check if  there is any missing value in our data frame"
   ]
  },
  {
   "cell_type": "code",
   "execution_count": 4,
   "metadata": {},
   "outputs": [
    {
     "name": "stdout",
     "output_type": "stream",
     "text": [
      "The data has no missing values\n"
     ]
    }
   ],
   "source": [
    "if df.isna().any().any():\n",
    "    print('Seems like there are some missing values in the dataset')\n",
    "    print('There are {} missing values'.format(df.isna().sum().sum()))\n",
    "else: \n",
    "    print('The data has no missing values')"
   ]
  },
  {
   "cell_type": "markdown",
   "metadata": {},
   "source": [
    "Nice, there is no missing values in our data set! Now we shall proceed with the KNN algorithm"
   ]
  },
  {
   "cell_type": "markdown",
   "metadata": {},
   "source": [
    "## Distances\n",
    "\n",
    "The KNN algorithm is all about finding distances of an object from its neighbors. Let's write some functions to compute commonly used distances "
   ]
  },
  {
   "cell_type": "markdown",
   "metadata": {},
   "source": [
    "### Euclidean distance\n",
    "\n",
    "Probably the most well known distance. For more information about Euclidean distance, check: https://en.wikipedia.org/wiki/Euclidean_distance"
   ]
  },
  {
   "cell_type": "code",
   "execution_count": 5,
   "metadata": {},
   "outputs": [],
   "source": [
    "def euclidean_distance(pt1, pt2):\n",
    "  '''\n",
    "  This function takes two lists as parameters and computes the Euclidean distance between the two objects.\n",
    "  Each element in a list represents one coordinate of the respective vector. \n",
    "  \n",
    "  Returns a number representing the distance between the two vectors given as arguments\n",
    "  '''\n",
    "  return sum([(a - b) ** 2 for [a, b] in zip(pt1, pt2)]) ** 0.5\n",
    " "
   ]
  },
  {
   "cell_type": "markdown",
   "metadata": {},
   "source": [
    "### Manhattan distance\n",
    "\n",
    "Very similar to the Euclidean distance. However, instead of summing the squared difference between the coordinates of the vector, we sum the absolute diference between the coordinates. For more information about the Manhattan distance, check: https://en.wikipedia.org/wiki/Taxicab_geometry\n",
    "\n",
    "P.S.: in scikit-learn, the Manhattan distance is refered as cityblock distance"
   ]
  },
  {
   "cell_type": "code",
   "execution_count": 6,
   "metadata": {},
   "outputs": [],
   "source": [
    "def manhattan_distance(pt1, pt2):\n",
    "  '''\n",
    "  This function takes two lists as parameters and computes the Manhattan distance between the two objects.\n",
    "  Each element in a list represents one coordinate of the respective vector. \n",
    "  \n",
    "  Returns a number representing the distance between the two vectors given as arguments\n",
    "  '''\n",
    "  return sum([abs(a - b) for [a, b] in zip(pt1, pt2)])"
   ]
  },
  {
   "cell_type": "markdown",
   "metadata": {},
   "source": [
    "### Hamming distance\n",
    "\n",
    "Another formula to calculate distances. The Hamming distance cares only about if the coordinates of two vectors are the same. The hamming distance adds one to every similar coordinates shared by two vectors. The Hamming distance is usualy used to check spelling. For more information about the Hamming distance, check: https://en.wikipedia.org/wiki/Hamming_distance"
   ]
  },
  {
   "cell_type": "code",
   "execution_count": 7,
   "metadata": {},
   "outputs": [],
   "source": [
    "def hamming_distance(pt1, pt2):\n",
    "  '''\n",
    "  This function takes two lists as parameters and computes the Hamming distance between the two objects. \n",
    "  \n",
    "  Returns a number representing the distance between the two vectors given as arguments\n",
    "  '''\n",
    "  return sum([1 if a != b else 0 for [a, b] in zip(pt1, pt2)])\n"
   ]
  },
  {
   "cell_type": "markdown",
   "metadata": {},
   "source": [
    "## Normalization\n",
    "\n",
    "It is of major inportance to normalize the features in order to use the KNN algorithm. We will be exploring two kinds of normalization, viz. the min-max normalization and the z-score normalization. \n",
    "\n",
    "It is up to you to decide which kind of normalization is best suited for your application. In a nutshell, the min-max normalization will scale all features to the same scale, however it does not perform nicely with outliers; the z-score normalization can handle better outliers, however it may not normalize all features to the same scale\n",
    "\n",
    "For more information about the normalization explored here, check: https://en.wikipedia.org/wiki/Feature_scaling"
   ]
  },
  {
   "cell_type": "markdown",
   "metadata": {},
   "source": [
    "#### Min-Max normalization"
   ]
  },
  {
   "cell_type": "code",
   "execution_count": 8,
   "metadata": {},
   "outputs": [],
   "source": [
    "def min_max_normalize(lst):\n",
    "  '''\n",
    "  This function take a list as a parameter and returns a list with the normalized values based on the Min-Max \n",
    "  normalization\n",
    "  '''\n",
    "  maximum, minimum = max(lst), min(lst)\n",
    "  return [(i-minimum)/(maximum - minimum) for i in lst]\n",
    "  "
   ]
  },
  {
   "cell_type": "markdown",
   "metadata": {},
   "source": [
    "#### Z-score normalization "
   ]
  },
  {
   "cell_type": "code",
   "execution_count": 9,
   "metadata": {},
   "outputs": [],
   "source": [
    "def z_score_normalize(lst):\n",
    "  '''\n",
    "  This function ake a list as a parameter and returns a list with the normalized values based on the Z-score \n",
    "  normalization\n",
    "  '''\n",
    "  mean, sig = np.mean(lst), np.std(lst)\n",
    "  return [ (i - mean) / sig for i in lst]"
   ]
  },
  {
   "cell_type": "markdown",
   "metadata": {},
   "source": [
    "## KNN algorithm \n",
    "\n",
    "For more information about the k-nearest neighbors algorithm, check: https://en.wikipedia.org/wiki/K-nearest_neighbors_algorithm"
   ]
  },
  {
   "cell_type": "markdown",
   "metadata": {},
   "source": [
    "### Selecting the features and normalizing\n",
    "\n",
    "We are going to use only 10 features out of the 30. Let's choose the columns that represents the features's mean and save that to a variable called features"
   ]
  },
  {
   "cell_type": "code",
   "execution_count": 10,
   "metadata": {},
   "outputs": [
    {
     "name": "stdout",
     "output_type": "stream",
     "text": [
      "   radius_mean  texture_mean  perimeter_mean  area_mean  smoothness_mean  \\\n",
      "0        17.99         10.38          122.80     1001.0          0.11840   \n",
      "1        20.57         17.77          132.90     1326.0          0.08474   \n",
      "2        19.69         21.25          130.00     1203.0          0.10960   \n",
      "3        11.42         20.38           77.58      386.1          0.14250   \n",
      "4        20.29         14.34          135.10     1297.0          0.10030   \n",
      "\n",
      "   compactness_mean  concavity_mean  concave points_mean  symmetry_mean  \\\n",
      "0           0.27760          0.3001              0.14710         0.2419   \n",
      "1           0.07864          0.0869              0.07017         0.1812   \n",
      "2           0.15990          0.1974              0.12790         0.2069   \n",
      "3           0.28390          0.2414              0.10520         0.2597   \n",
      "4           0.13280          0.1980              0.10430         0.1809   \n",
      "\n",
      "   fractal_dimension_mean  \n",
      "0                 0.07871  \n",
      "1                 0.05667  \n",
      "2                 0.05999  \n",
      "3                 0.09744  \n",
      "4                 0.05883  \n"
     ]
    }
   ],
   "source": [
    "features = df[df.columns[1:11]]\n",
    "print(features.head())"
   ]
  },
  {
   "cell_type": "markdown",
   "metadata": {},
   "source": [
    "Now, let's normalize all columns with the min-max normalization"
   ]
  },
  {
   "cell_type": "code",
   "execution_count": 11,
   "metadata": {},
   "outputs": [
    {
     "name": "stdout",
     "output_type": "stream",
     "text": [
      "   radius_mean  texture_mean  perimeter_mean  area_mean  smoothness_mean  \\\n",
      "0     0.521037      0.022658        0.545989   0.363733         0.593753   \n",
      "1     0.643144      0.272574        0.615783   0.501591         0.289880   \n",
      "2     0.601496      0.390260        0.595743   0.449417         0.514309   \n",
      "3     0.210090      0.360839        0.233501   0.102906         0.811321   \n",
      "4     0.629893      0.156578        0.630986   0.489290         0.430351   \n",
      "\n",
      "   compactness_mean  concavity_mean  concave points_mean  symmetry_mean  \\\n",
      "0          0.792037        0.703140             0.731113       0.686364   \n",
      "1          0.181768        0.203608             0.348757       0.379798   \n",
      "2          0.431017        0.462512             0.635686       0.509596   \n",
      "3          0.811361        0.565604             0.522863       0.776263   \n",
      "4          0.347893        0.463918             0.518390       0.378283   \n",
      "\n",
      "   fractal_dimension_mean  \n",
      "0                0.605518  \n",
      "1                0.141323  \n",
      "2                0.211247  \n",
      "3                1.000000  \n",
      "4                0.186816  \n"
     ]
    }
   ],
   "source": [
    "features = features.apply(min_max_normalize)\n",
    "print(features.head())"
   ]
  },
  {
   "cell_type": "markdown",
   "metadata": {},
   "source": [
    "We can see that our features are normalized. Nice! Now we are ready to calculate distances. "
   ]
  },
  {
   "cell_type": "markdown",
   "metadata": {},
   "source": [
    "### Splitting our data\n",
    "\n",
    "Here we are going to use the scikit-learn function to split our data into train and test data. We will use 1/3 of our data for the test. \n",
    "\n",
    "For more information about this function, check: https://scikit-learn.org/stable/modules/generated/sklearn.model_selection.train_test_split.html"
   ]
  },
  {
   "cell_type": "code",
   "execution_count": 12,
   "metadata": {},
   "outputs": [],
   "source": [
    "X_train, X_test, y_train, y_test = train_test_split(features, target, test_size=0.33, random_state=42)"
   ]
  },
  {
   "cell_type": "markdown",
   "metadata": {},
   "source": [
    "### Find the k nearest neighbors\n",
    "\n",
    "Here we will use one of the distance functions to find the k nearest neighbors.\n",
    "\n",
    "Remember that each row in our dataset represents one element. For instance, lets see how the first instance from our test set looks like. We take the first row in the test set"
   ]
  },
  {
   "cell_type": "code",
   "execution_count": 13,
   "metadata": {},
   "outputs": [
    {
     "name": "stdout",
     "output_type": "stream",
     "text": [
      "radius_mean               0.259785\n",
      "texture_mean              0.300643\n",
      "perimeter_mean            0.257757\n",
      "area_mean                 0.143542\n",
      "smoothness_mean           0.424483\n",
      "compactness_mean          0.265076\n",
      "concavity_mean            0.187559\n",
      "concave points_mean       0.189911\n",
      "symmetry_mean             0.436869\n",
      "fractal_dimension_mean    0.290017\n",
      "Name: 204, dtype: float64\n",
      "B\n"
     ]
    }
   ],
   "source": [
    "first = X_test.iloc[0]\n",
    "first_label = y_test.iloc[0]\n",
    "print(first)\n",
    "print(first_label)"
   ]
  },
  {
   "cell_type": "markdown",
   "metadata": {},
   "source": [
    "Now, let's write a function that, given one instance, will return the k nearest neighbors from our training set"
   ]
  },
  {
   "cell_type": "code",
   "execution_count": 14,
   "metadata": {},
   "outputs": [],
   "source": [
    "def k_neighbors(unknown, train_set, k, distance_fun):\n",
    "    '''\n",
    "    This function will return a list of lists. Each element of a list (namely, another list), have 2 elements: \n",
    "    the distance between the elements and the index of the respective element from the training set. \n",
    "    \n",
    "    For exemple: we will feed the function with one point (variable 'unknown'). The function will then calculate the \n",
    "    distance from 'unknown' to all of the items in the training set. In the for loop, a list 'neighbors' will be created\n",
    "    with the distance from 'unknown' to the i-th row of the training set. Obviously, right after the for loop, \n",
    "    the list 'neighbors' is sorted by the indexes. But we want to sort by the distances! This is done with the \n",
    "    next instruction 'neighbors.sort()'\n",
    "    \n",
    "    The function will have as arguments:\n",
    "        -> unknown : the point from where I want to calculate the distance from it to all the other points from training set\n",
    "        -> train_set : the features from the training set\n",
    "        -> k : number of neighbors\n",
    "        -> fun : the function that calculates the distance, e.g. euclidean_distance(), etc\n",
    "    '''\n",
    "    neighbors = []\n",
    "    for i in range(len(train_set)):\n",
    "        neighbors.append([distance_fun(unknown, train_set.iloc[i]), i])\n",
    "    neighbors.sort()\n",
    "    return neighbors[:k]"
   ]
  },
  {
   "cell_type": "raw",
   "metadata": {},
   "source": [
    "For example, let's find the 10 closest neighbors from the first row of the test set. Obviously, the closest neighbor is himself!"
   ]
  },
  {
   "cell_type": "code",
   "execution_count": 15,
   "metadata": {},
   "outputs": [
    {
     "name": "stdout",
     "output_type": "stream",
     "text": [
      "[[0.0, 0], [0.1081129182465027, 21], [0.11842369504905956, 69], [0.14770267494741063, 42], [0.15322710632214903, 136], [0.15464416857743077, 48], [0.16405411386054794, 124], [0.17386576269374462, 91], [0.18063047224943024, 180], [0.18489976844394124, 60]]\n"
     ]
    }
   ],
   "source": [
    "print(k_neighbors(first, X_test, 10, euclidean_distance))"
   ]
  },
  {
   "cell_type": "markdown",
   "metadata": {},
   "source": [
    "Now that we have the k neighbors, it's time to classify the point, viz. is he benign or malign?\n",
    "\n",
    "Let's see an example. lets find the 20 closest neighbors from our first case in y_test dataset"
   ]
  },
  {
   "cell_type": "code",
   "execution_count": 16,
   "metadata": {},
   "outputs": [
    {
     "name": "stdout",
     "output_type": "stream",
     "text": [
      "216    B\n",
      "160    B\n",
      "383    B\n",
      "423    B\n",
      "200    B\n",
      "266    B\n",
      "515    B\n",
      "356    B\n",
      "154    B\n",
      "106    B\n",
      "340    B\n",
      "292    B\n",
      "301    B\n",
      "44     M\n",
      "502    B\n",
      "483    B\n",
      "99     M\n",
      "488    B\n",
      "143    B\n",
      "96     B\n",
      "Name: diagnosis, dtype: object\n"
     ]
    }
   ],
   "source": [
    "# fetch the neighbors\n",
    "list_neighbors = k_neighbors(first, X_train, 20, euclidean_distance)\n",
    "# retrieve the indexes from the neighbors\n",
    "list_indexes = [item[1] for item in list_neighbors]\n",
    "# let's see the if the neighbors are majority benign or malign\n",
    "print(y_train.iloc[list_indexes])"
   ]
  },
  {
   "cell_type": "markdown",
   "metadata": {},
   "source": [
    "Most of the neighbors are benign. So, it's probably a good idea to classify him as benign.\n",
    "\n",
    "Let's write a function that will make that decision for us!"
   ]
  },
  {
   "cell_type": "code",
   "execution_count": 17,
   "metadata": {},
   "outputs": [],
   "source": [
    "def classify (unknown, dataset, labels, k):\n",
    "    # let's get the k-neighbors from our unknown\n",
    "    neighbors = k_neighbors(unknown, dataset, k, euclidean_distance)\n",
    "    indexes = [item[1] for item in neighbors]\n",
    "    neighbors_labels = labels.iloc[indexes]\n",
    "    \n",
    "    num_M = len( [label for label in neighbors_labels if label == 'M'] )\n",
    "    num_B = len( [label for label in neighbors_labels if label == 'B'] )\n",
    "\n",
    "    # now that we have the number of benign and malign cases from the neighbors, we shall return\n",
    "    # 'B' if most of neighbors are benign and 'M' if most are Malign\n",
    "    # If num_B == num_M, then we return the label from the closest neighbor\n",
    "    if num_B > num_M:\n",
    "        return 'B', num_B, num_M\n",
    "    elif num_M > num_B:\n",
    "        return 'M', num_B, num_M\n",
    "    else: \n",
    "        return neighbors_labels.iloc[0], num_B, num_M"
   ]
  },
  {
   "cell_type": "code",
   "execution_count": 18,
   "metadata": {},
   "outputs": [
    {
     "name": "stdout",
     "output_type": "stream",
     "text": [
      "We predicted that the case is benign, since we have 10 benign neighbors and 0 malign neighbors\n"
     ]
    }
   ],
   "source": [
    "predict, num_B, num_M = classify (first, X_train, y_train, 10)\n",
    "if predict == 'M':\n",
    "    prediction = 'malign'\n",
    "else:\n",
    "    prediction = 'benign'\n",
    "print('We predicted that the case is {}, since we have {} benign neighbors and {} malign neighbors'.format(prediction, num_B, num_M))"
   ]
  },
  {
   "cell_type": "markdown",
   "metadata": {},
   "source": [
    "That's it! We performed the KNN algorithm and predicted if the unknown case cancer is benign or malign!"
   ]
  },
  {
   "cell_type": "markdown",
   "metadata": {},
   "source": [
    "## How good is our KNN algorithm?\n",
    "\n",
    "Now it's time to test the accuracy of our algorithm. Let's see how many predictions are similar to the actual cases. We are going to test all cases that didn't participate in the training algoritm, namely the 'X_test' data set and their respective labels stored in 'y_test' \n",
    "\n",
    "Now, we would like to classify all of rows from X_test. For now, let's run the algorithm for 7 neighbors."
   ]
  },
  {
   "cell_type": "code",
   "execution_count": 40,
   "metadata": {},
   "outputs": [],
   "source": [
    "predict_labels = []\n",
    "for i in range(len(X_test)):\n",
    "    predict_labels.append(classify(X_test.iloc[i], X_train, y_train, 7)[0])"
   ]
  },
  {
   "cell_type": "markdown",
   "metadata": {},
   "source": [
    "Now that we have a list of predictions, let's compare with the actual diagnosis"
   ]
  },
  {
   "cell_type": "code",
   "execution_count": 41,
   "metadata": {},
   "outputs": [
    {
     "name": "stdout",
     "output_type": "stream",
     "text": [
      "We correctly predicted 177 out of 188 with an accuracy of 94.1%\n"
     ]
    }
   ],
   "source": [
    "correct_predictions = sum( [1 if a == b else 0 for a, b in zip(predict_labels, y_test)] )\n",
    "correct_pct = correct_predictions / len(y_test)\n",
    "\n",
    "print('We correctly predicted {} out of {} with an accuracy of {:.1f}%'.format(correct_predictions, len(y_test), correct_pct*100))"
   ]
  },
  {
   "cell_type": "markdown",
   "metadata": {},
   "source": [
    "## How to choose the best k?\n",
    "\n",
    "Choosing the best k neighbors will influence in how well our algorithm will perform. But how to chose the best number of neighbors? We can actually make a plot of accuracy X number of neighbors. This way we can see what will be the best k for our problem. Let's just do that. Run the next cell, but it might take a few minutes"
   ]
  },
  {
   "cell_type": "code",
   "execution_count": 47,
   "metadata": {},
   "outputs": [
    {
     "ename": "KeyboardInterrupt",
     "evalue": "",
     "output_type": "error",
     "traceback": [
      "\u001b[0;31m---------------------------------------------------------------------------\u001b[0m",
      "\u001b[0;31mKeyboardInterrupt\u001b[0m                         Traceback (most recent call last)",
      "\u001b[0;32m<ipython-input-47-9e0749a69af9>\u001b[0m in \u001b[0;36m<module>\u001b[0;34m\u001b[0m\n\u001b[1;32m      6\u001b[0m     \u001b[0mpredict_labels\u001b[0m \u001b[0;34m=\u001b[0m \u001b[0;34m[\u001b[0m\u001b[0;34m]\u001b[0m\u001b[0;34m\u001b[0m\u001b[0;34m\u001b[0m\u001b[0m\n\u001b[1;32m      7\u001b[0m     \u001b[0;32mfor\u001b[0m \u001b[0mi\u001b[0m \u001b[0;32min\u001b[0m \u001b[0mrange\u001b[0m\u001b[0;34m(\u001b[0m\u001b[0mlen\u001b[0m\u001b[0;34m(\u001b[0m\u001b[0mX_test\u001b[0m\u001b[0;34m)\u001b[0m\u001b[0;34m)\u001b[0m\u001b[0;34m:\u001b[0m\u001b[0;34m\u001b[0m\u001b[0;34m\u001b[0m\u001b[0m\n\u001b[0;32m----> 8\u001b[0;31m         \u001b[0mpredict_labels\u001b[0m\u001b[0;34m.\u001b[0m\u001b[0mappend\u001b[0m\u001b[0;34m(\u001b[0m\u001b[0mclassify\u001b[0m\u001b[0;34m(\u001b[0m\u001b[0mX_test\u001b[0m\u001b[0;34m.\u001b[0m\u001b[0miloc\u001b[0m\u001b[0;34m[\u001b[0m\u001b[0mi\u001b[0m\u001b[0;34m]\u001b[0m\u001b[0;34m,\u001b[0m \u001b[0mX_train\u001b[0m\u001b[0;34m,\u001b[0m \u001b[0my_train\u001b[0m\u001b[0;34m,\u001b[0m \u001b[0mnum_neighbors\u001b[0m\u001b[0;34m)\u001b[0m\u001b[0;34m[\u001b[0m\u001b[0;36m0\u001b[0m\u001b[0;34m]\u001b[0m\u001b[0;34m)\u001b[0m\u001b[0;34m\u001b[0m\u001b[0;34m\u001b[0m\u001b[0m\n\u001b[0m\u001b[1;32m      9\u001b[0m     \u001b[0mcorrect_predictions\u001b[0m \u001b[0;34m=\u001b[0m \u001b[0msum\u001b[0m\u001b[0;34m(\u001b[0m \u001b[0;34m[\u001b[0m\u001b[0;36m1\u001b[0m \u001b[0;32mif\u001b[0m \u001b[0ma\u001b[0m \u001b[0;34m==\u001b[0m \u001b[0mb\u001b[0m \u001b[0;32melse\u001b[0m \u001b[0;36m0\u001b[0m \u001b[0;32mfor\u001b[0m \u001b[0ma\u001b[0m\u001b[0;34m,\u001b[0m \u001b[0mb\u001b[0m \u001b[0;32min\u001b[0m \u001b[0mzip\u001b[0m\u001b[0;34m(\u001b[0m\u001b[0mpredict_labels\u001b[0m\u001b[0;34m,\u001b[0m \u001b[0my_test\u001b[0m\u001b[0;34m)\u001b[0m\u001b[0;34m]\u001b[0m \u001b[0;34m)\u001b[0m\u001b[0;34m\u001b[0m\u001b[0;34m\u001b[0m\u001b[0m\n\u001b[1;32m     10\u001b[0m     \u001b[0mcorrect_pct\u001b[0m \u001b[0;34m=\u001b[0m \u001b[0mcorrect_predictions\u001b[0m \u001b[0;34m/\u001b[0m \u001b[0mtotal\u001b[0m\u001b[0;34m\u001b[0m\u001b[0;34m\u001b[0m\u001b[0m\n",
      "\u001b[0;32m<ipython-input-17-1b41112f0ae4>\u001b[0m in \u001b[0;36mclassify\u001b[0;34m(unknown, dataset, labels, k)\u001b[0m\n\u001b[1;32m      1\u001b[0m \u001b[0;32mdef\u001b[0m \u001b[0mclassify\u001b[0m \u001b[0;34m(\u001b[0m\u001b[0munknown\u001b[0m\u001b[0;34m,\u001b[0m \u001b[0mdataset\u001b[0m\u001b[0;34m,\u001b[0m \u001b[0mlabels\u001b[0m\u001b[0;34m,\u001b[0m \u001b[0mk\u001b[0m\u001b[0;34m)\u001b[0m\u001b[0;34m:\u001b[0m\u001b[0;34m\u001b[0m\u001b[0;34m\u001b[0m\u001b[0m\n\u001b[1;32m      2\u001b[0m     \u001b[0;31m# let's get the k-neighbors from our unknown\u001b[0m\u001b[0;34m\u001b[0m\u001b[0;34m\u001b[0m\u001b[0;34m\u001b[0m\u001b[0m\n\u001b[0;32m----> 3\u001b[0;31m     \u001b[0mneighbors\u001b[0m \u001b[0;34m=\u001b[0m \u001b[0mk_neighbors\u001b[0m\u001b[0;34m(\u001b[0m\u001b[0munknown\u001b[0m\u001b[0;34m,\u001b[0m \u001b[0mdataset\u001b[0m\u001b[0;34m,\u001b[0m \u001b[0mk\u001b[0m\u001b[0;34m,\u001b[0m \u001b[0meuclidean_distance\u001b[0m\u001b[0;34m)\u001b[0m\u001b[0;34m\u001b[0m\u001b[0;34m\u001b[0m\u001b[0m\n\u001b[0m\u001b[1;32m      4\u001b[0m     \u001b[0mindexes\u001b[0m \u001b[0;34m=\u001b[0m \u001b[0;34m[\u001b[0m\u001b[0mitem\u001b[0m\u001b[0;34m[\u001b[0m\u001b[0;36m1\u001b[0m\u001b[0;34m]\u001b[0m \u001b[0;32mfor\u001b[0m \u001b[0mitem\u001b[0m \u001b[0;32min\u001b[0m \u001b[0mneighbors\u001b[0m\u001b[0;34m]\u001b[0m\u001b[0;34m\u001b[0m\u001b[0;34m\u001b[0m\u001b[0m\n\u001b[1;32m      5\u001b[0m     \u001b[0mneighbors_labels\u001b[0m \u001b[0;34m=\u001b[0m \u001b[0mlabels\u001b[0m\u001b[0;34m.\u001b[0m\u001b[0miloc\u001b[0m\u001b[0;34m[\u001b[0m\u001b[0mindexes\u001b[0m\u001b[0;34m]\u001b[0m\u001b[0;34m\u001b[0m\u001b[0;34m\u001b[0m\u001b[0m\n",
      "\u001b[0;32m<ipython-input-14-fe372988a0d3>\u001b[0m in \u001b[0;36mk_neighbors\u001b[0;34m(unknown, train_set, k, distance_fun)\u001b[0m\n\u001b[1;32m     18\u001b[0m     \u001b[0mneighbors\u001b[0m \u001b[0;34m=\u001b[0m \u001b[0;34m[\u001b[0m\u001b[0;34m]\u001b[0m\u001b[0;34m\u001b[0m\u001b[0;34m\u001b[0m\u001b[0m\n\u001b[1;32m     19\u001b[0m     \u001b[0;32mfor\u001b[0m \u001b[0mi\u001b[0m \u001b[0;32min\u001b[0m \u001b[0mrange\u001b[0m\u001b[0;34m(\u001b[0m\u001b[0mlen\u001b[0m\u001b[0;34m(\u001b[0m\u001b[0mtrain_set\u001b[0m\u001b[0;34m)\u001b[0m\u001b[0;34m)\u001b[0m\u001b[0;34m:\u001b[0m\u001b[0;34m\u001b[0m\u001b[0;34m\u001b[0m\u001b[0m\n\u001b[0;32m---> 20\u001b[0;31m         \u001b[0mneighbors\u001b[0m\u001b[0;34m.\u001b[0m\u001b[0mappend\u001b[0m\u001b[0;34m(\u001b[0m\u001b[0;34m[\u001b[0m\u001b[0mdistance_fun\u001b[0m\u001b[0;34m(\u001b[0m\u001b[0munknown\u001b[0m\u001b[0;34m,\u001b[0m \u001b[0mtrain_set\u001b[0m\u001b[0;34m.\u001b[0m\u001b[0miloc\u001b[0m\u001b[0;34m[\u001b[0m\u001b[0mi\u001b[0m\u001b[0;34m]\u001b[0m\u001b[0;34m)\u001b[0m\u001b[0;34m,\u001b[0m \u001b[0mi\u001b[0m\u001b[0;34m]\u001b[0m\u001b[0;34m)\u001b[0m\u001b[0;34m\u001b[0m\u001b[0;34m\u001b[0m\u001b[0m\n\u001b[0m\u001b[1;32m     21\u001b[0m     \u001b[0mneighbors\u001b[0m\u001b[0;34m.\u001b[0m\u001b[0msort\u001b[0m\u001b[0;34m(\u001b[0m\u001b[0;34m)\u001b[0m\u001b[0;34m\u001b[0m\u001b[0;34m\u001b[0m\u001b[0m\n\u001b[1;32m     22\u001b[0m     \u001b[0;32mreturn\u001b[0m \u001b[0mneighbors\u001b[0m\u001b[0;34m[\u001b[0m\u001b[0;34m:\u001b[0m\u001b[0mk\u001b[0m\u001b[0;34m]\u001b[0m\u001b[0;34m\u001b[0m\u001b[0;34m\u001b[0m\u001b[0m\n",
      "\u001b[0;32m<ipython-input-5-6b2641cbaf99>\u001b[0m in \u001b[0;36meuclidean_distance\u001b[0;34m(pt1, pt2)\u001b[0m\n\u001b[1;32m      6\u001b[0m   \u001b[0mReturns\u001b[0m \u001b[0ma\u001b[0m \u001b[0mnumber\u001b[0m \u001b[0mrepresenting\u001b[0m \u001b[0mthe\u001b[0m \u001b[0mdistance\u001b[0m \u001b[0mbetween\u001b[0m \u001b[0mthe\u001b[0m \u001b[0mtwo\u001b[0m \u001b[0mvectors\u001b[0m \u001b[0mgiven\u001b[0m \u001b[0;32mas\u001b[0m \u001b[0marguments\u001b[0m\u001b[0;34m\u001b[0m\u001b[0;34m\u001b[0m\u001b[0m\n\u001b[1;32m      7\u001b[0m   '''\n\u001b[0;32m----> 8\u001b[0;31m   \u001b[0;32mreturn\u001b[0m \u001b[0msum\u001b[0m\u001b[0;34m(\u001b[0m\u001b[0;34m[\u001b[0m\u001b[0;34m(\u001b[0m\u001b[0ma\u001b[0m \u001b[0;34m-\u001b[0m \u001b[0mb\u001b[0m\u001b[0;34m)\u001b[0m \u001b[0;34m**\u001b[0m \u001b[0;36m2\u001b[0m \u001b[0;32mfor\u001b[0m \u001b[0;34m[\u001b[0m\u001b[0ma\u001b[0m\u001b[0;34m,\u001b[0m \u001b[0mb\u001b[0m\u001b[0;34m]\u001b[0m \u001b[0;32min\u001b[0m \u001b[0mzip\u001b[0m\u001b[0;34m(\u001b[0m\u001b[0mpt1\u001b[0m\u001b[0;34m,\u001b[0m \u001b[0mpt2\u001b[0m\u001b[0;34m)\u001b[0m\u001b[0;34m]\u001b[0m\u001b[0;34m)\u001b[0m \u001b[0;34m**\u001b[0m \u001b[0;36m0.5\u001b[0m\u001b[0;34m\u001b[0m\u001b[0;34m\u001b[0m\u001b[0m\n\u001b[0m\u001b[1;32m      9\u001b[0m \u001b[0;34m\u001b[0m\u001b[0m\n",
      "\u001b[0;32m~/anaconda3/lib/python3.7/site-packages/pandas/core/base.py\u001b[0m in \u001b[0;36m__iter__\u001b[0;34m(self)\u001b[0m\n\u001b[1;32m   1129\u001b[0m             \u001b[0;32mreturn\u001b[0m \u001b[0miter\u001b[0m\u001b[0;34m(\u001b[0m\u001b[0mself\u001b[0m\u001b[0;34m.\u001b[0m\u001b[0m_values\u001b[0m\u001b[0;34m)\u001b[0m\u001b[0;34m\u001b[0m\u001b[0;34m\u001b[0m\u001b[0m\n\u001b[1;32m   1130\u001b[0m         \u001b[0;32melse\u001b[0m\u001b[0;34m:\u001b[0m\u001b[0;34m\u001b[0m\u001b[0;34m\u001b[0m\u001b[0m\n\u001b[0;32m-> 1131\u001b[0;31m             \u001b[0;32mreturn\u001b[0m \u001b[0mmap\u001b[0m\u001b[0;34m(\u001b[0m\u001b[0mself\u001b[0m\u001b[0;34m.\u001b[0m\u001b[0m_values\u001b[0m\u001b[0;34m.\u001b[0m\u001b[0mitem\u001b[0m\u001b[0;34m,\u001b[0m \u001b[0mrange\u001b[0m\u001b[0;34m(\u001b[0m\u001b[0mself\u001b[0m\u001b[0;34m.\u001b[0m\u001b[0m_values\u001b[0m\u001b[0;34m.\u001b[0m\u001b[0msize\u001b[0m\u001b[0;34m)\u001b[0m\u001b[0;34m)\u001b[0m\u001b[0;34m\u001b[0m\u001b[0;34m\u001b[0m\u001b[0m\n\u001b[0m\u001b[1;32m   1132\u001b[0m \u001b[0;34m\u001b[0m\u001b[0m\n\u001b[1;32m   1133\u001b[0m     \u001b[0;34m@\u001b[0m\u001b[0mcache_readonly\u001b[0m\u001b[0;34m\u001b[0m\u001b[0;34m\u001b[0m\u001b[0m\n",
      "\u001b[0;32m~/anaconda3/lib/python3.7/site-packages/pandas/core/series.py\u001b[0m in \u001b[0;36m_values\u001b[0;34m(self)\u001b[0m\n\u001b[1;32m    479\u001b[0m         \u001b[0mReturn\u001b[0m \u001b[0mthe\u001b[0m \u001b[0minternal\u001b[0m \u001b[0mrepr\u001b[0m \u001b[0mof\u001b[0m \u001b[0mthis\u001b[0m \u001b[0mdata\u001b[0m\u001b[0;34m.\u001b[0m\u001b[0;34m\u001b[0m\u001b[0;34m\u001b[0m\u001b[0m\n\u001b[1;32m    480\u001b[0m         \"\"\"\n\u001b[0;32m--> 481\u001b[0;31m         \u001b[0;32mreturn\u001b[0m \u001b[0mself\u001b[0m\u001b[0;34m.\u001b[0m\u001b[0m_data\u001b[0m\u001b[0;34m.\u001b[0m\u001b[0minternal_values\u001b[0m\u001b[0;34m(\u001b[0m\u001b[0;34m)\u001b[0m\u001b[0;34m\u001b[0m\u001b[0;34m\u001b[0m\u001b[0m\n\u001b[0m\u001b[1;32m    482\u001b[0m \u001b[0;34m\u001b[0m\u001b[0m\n\u001b[1;32m    483\u001b[0m     \u001b[0;32mdef\u001b[0m \u001b[0m_formatting_values\u001b[0m\u001b[0;34m(\u001b[0m\u001b[0mself\u001b[0m\u001b[0;34m)\u001b[0m\u001b[0;34m:\u001b[0m\u001b[0;34m\u001b[0m\u001b[0;34m\u001b[0m\u001b[0m\n",
      "\u001b[0;31mKeyboardInterrupt\u001b[0m: "
     ]
    }
   ],
   "source": [
    "k = range(1, 30)\n",
    "total = len(y_test)\n",
    "accuracy = []\n",
    "\n",
    "for num_neighbors in k:\n",
    "    predict_labels = []\n",
    "    for i in range(len(X_test)):\n",
    "        predict_labels.append(classify(X_test.iloc[i], X_train, y_train, num_neighbors)[0])\n",
    "    correct_predictions = sum( [1 if a == b else 0 for a, b in zip(predict_labels, y_test)] )\n",
    "    correct_pct = correct_predictions / total\n",
    "    accuracy.append(correct_pct)"
   ]
  },
  {
   "cell_type": "markdown",
   "metadata": {},
   "source": [
    "Since it takes several minutes to run the above cell, I'll save the result below and plot the desired graph"
   ]
  },
  {
   "cell_type": "code",
   "execution_count": 53,
   "metadata": {},
   "outputs": [
    {
     "data": {
      "image/png": "[encoded data removed]",
      "text/plain": [
       "<Figure size 432x288 with 1 Axes>"
      ]
     },
     "metadata": {
      "needs_background": "light"
     },
     "output_type": "display_data"
    }
   ],
   "source": [
    "k = range(1, 30)\n",
    "accu_list = [0.925531914893617, 0.925531914893617, 0.9414893617021277, 0.9308510638297872, 0.9308510638297872, 0.9414893617021277, 0.9414893617021277, 0.9361702127659575, 0.9468085106382979, 0.9414893617021277, 0.9468085106382979, 0.9414893617021277, 0.9414893617021277, 0.9361702127659575, 0.9308510638297872, 0.9308510638297872, 0.9361702127659575, 0.9414893617021277, 0.9468085106382979, 0.9414893617021277, 0.9414893617021277, 0.9468085106382979, 0.9308510638297872, 0.9414893617021277, 0.9361702127659575, 0.9361702127659575, 0.9361702127659575, 0.9361702127659575, 0.9361702127659575]\n",
    "\n",
    "plt.plot(k, accu_list )\n",
    "plt.xlabel('Number of neighbors')\n",
    "plt.ylabel('Accuracy')\n",
    "plt.show()"
   ]
  },
  {
   "cell_type": "markdown",
   "metadata": {},
   "source": [
    "Seems like we can get our best result with k = 9 neighbors. Other higher values might result in the same accuracy, but it will cost more computational efforts to run."
   ]
  },
  {
   "cell_type": "markdown",
   "metadata": {},
   "source": [
    "## Using Sci-kit learn library\n",
    "\n",
    "Using functions from sci-kit learn library will reduce a lot of work. \n",
    "\n",
    "For more information about KNN from sklearn library, check: https://scikit-learn.org/stable/modules/generated/sklearn.neighbors.KNeighborsClassifier.html"
   ]
  },
  {
   "cell_type": "markdown",
   "metadata": {},
   "source": [
    "Let's first import the library"
   ]
  },
  {
   "cell_type": "code",
   "execution_count": 54,
   "metadata": {},
   "outputs": [],
   "source": [
    "from sklearn.neighbors import KNeighborsClassifier"
   ]
  },
  {
   "cell_type": "markdown",
   "metadata": {},
   "source": [
    "Now, let's build our classifier. Note that we set the number of neighbors on the next line:"
   ]
  },
  {
   "cell_type": "code",
   "execution_count": 56,
   "metadata": {},
   "outputs": [],
   "source": [
    "classifier = KNeighborsClassifier(n_neighbors = 9) "
   ]
  },
  {
   "cell_type": "markdown",
   "metadata": {},
   "source": [
    "We already split our data, and have them already normalized (don't forget to normalize them), it's time to train the classifier. For that, we do the following:"
   ]
  },
  {
   "cell_type": "code",
   "execution_count": 57,
   "metadata": {},
   "outputs": [
    {
     "data": {
      "text/plain": [
       "KNeighborsClassifier(algorithm='auto', leaf_size=30, metric='minkowski',\n",
       "           metric_params=None, n_jobs=None, n_neighbors=9, p=2,\n",
       "           weights='uniform')"
      ]
     },
     "execution_count": 57,
     "metadata": {},
     "output_type": "execute_result"
    }
   ],
   "source": [
    "classifier.fit(X_train, y_train)"
   ]
  },
  {
   "cell_type": "markdown",
   "metadata": {},
   "source": [
    "Now, we can take our predictions. Let's classify our first row from the test dataset(stored in first)"
   ]
  },
  {
   "cell_type": "code",
   "execution_count": 63,
   "metadata": {},
   "outputs": [
    {
     "name": "stdout",
     "output_type": "stream",
     "text": [
      "['B']\n"
     ]
    }
   ],
   "source": [
    "print(classifier.predict([first]))"
   ]
  },
  {
   "cell_type": "markdown",
   "metadata": {},
   "source": [
    "And, it classified correcly! The sklearn library has a method .score() to tell us how good is the classifier. "
   ]
  },
  {
   "cell_type": "code",
   "execution_count": 65,
   "metadata": {},
   "outputs": [
    {
     "name": "stdout",
     "output_type": "stream",
     "text": [
      "0.9468085106382979\n"
     ]
    }
   ],
   "source": [
    "print(classifier.score(X_test, y_test))"
   ]
  },
  {
   "cell_type": "markdown",
   "metadata": {},
   "source": [
    "And that's it. You can play with the code. For instance, what will be the best number k for neighbors? Which function will be the best to calculate the distance? What method should you use to normalize the data?"
   ]
  },
  {
   "cell_type": "code",
   "execution_count": null,
   "metadata": {},
   "outputs": [],
   "source": []
  }
 ],
 "metadata": {
  "kernelspec": {
   "display_name": "Python 3",
   "language": "python",
   "name": "python3"
  },
  "language_info": {
   "codemirror_mode": {
    "name": "ipython",
    "version": 3
   },
   "file_extension": ".py",
   "mimetype": "text/x-python",
   "name": "python",
   "nbconvert_exporter": "python",
   "pygments_lexer": "ipython3",
   "version": "3.7.3"
  }
 },
 "nbformat": 4,
 "nbformat_minor": 2
}
